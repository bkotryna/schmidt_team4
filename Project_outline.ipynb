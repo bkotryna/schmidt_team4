{
 "cells": [
  {
   "cell_type": "markdown",
   "metadata": {},
   "source": [
    "# Schmidt Hackathlon - Covid-19 in Nigeria"
   ]
  },
  {
   "cell_type": "markdown",
   "metadata": {},
   "source": [
    "## Suggestions from Eric's intro document\n",
    "\n",
    "\n",
    "You are provided with different datasets to conduct exploratory data analysis on Nigeria health facility data & covid19:\n",
    "- Nigeria NMIS health facility data\n",
    "- Population data for Administrative Zone 1 (states) areas in Nigeria\n",
    "- Map boundaries for Nigerian states (for plotting and binning)\n",
    "- Covid cases across Nigeria (as of May 20, 2020)\n",
    "\n",
    "You are provided with a sample of possible questions to investigate and tasks to undertake. However, you are free to design your own tasks as a team and augment the initial datasets for your own analysis."
   ]
  },
  {
   "cell_type": "markdown",
   "metadata": {},
   "source": [
    "Many interesting questions with this data relate to COVID cases over time. Some examples:\n",
    "-\tStart by undertaking exploratory data analysis of the dataset, what useful insights can you find through summarisation and data visualisation?\n",
    "-\tHow are the ‘previous week’ and ‘next week’ columns related? What type of model is appropriate for their relationship?\n",
    "-\tWhat about geo-spatial information? You would expect that if a state had high COVID cases, that neighboring states would also see rising cases at some delay. How might you do this? \n",
    "-\tTry building models for each individual state, versus aggregating all of the data together. Does having a global model or local models work better here? Does adding the ‘state’ as a feature to the global model improve results?\n",
    "-\tHow might you extend the model to incorporate more time history than just last week’s cases? Is this information needed?\n",
    "-\tDo health facilities or the population of states improve the predictions? \n",
    "-\tFind another dataset from one of these (https://nigeria.opendataforafrica.org/, https://data.world/datasets/nigeria, https://data.humdata.org/group/nga) websites (or another!) that interests you and explore it. What kind of data is in it? What characteristics does it share with the given datasets that you might connect the two with (state, health facility name, etc.)? Is the data sparsely populated, with many missing values or is it relatively clean and complete? How does it impact the accuracy of your model?"
   ]
  },
  {
   "cell_type": "markdown",
   "metadata": {},
   "source": [
    "An example of direction you could investigate is creating a simple  Markov model of COVID case predictions for over time. \n",
    "One way to do this is to build a simple as follows:\n",
    "-\tCreate a new dataframe with the counts of new COVID cases per state, per week.\n",
    "-\tTaking that, create another dataframe with “previous week’s cases” and “next week’s cases” as two columns.\n",
    "-\tNow take the “previous week” column as the feature and “next week’s” cases as the target variable and train a model. Think about how these two numbers will be related when choosing a model.\n"
   ]
  },
  {
   "cell_type": "markdown",
   "metadata": {},
   "source": [
    "## A random collection of our ideas for things to explore\n",
    "\n",
    "- def\n",
    "- ghi"
   ]
  },
  {
   "cell_type": "markdown",
   "metadata": {},
   "source": [
    "## Our outline & plan\n",
    "\n",
    "- abc\n",
    "- xyz"
   ]
  }
 ],
 "metadata": {
  "kernelspec": {
   "display_name": "Python 3",
   "language": "python",
   "name": "python3"
  },
  "language_info": {
   "codemirror_mode": {
    "name": "ipython",
    "version": 3
   },
   "file_extension": ".py",
   "mimetype": "text/x-python",
   "name": "python",
   "nbconvert_exporter": "python",
   "pygments_lexer": "ipython3",
   "version": "3.8.3"
  }
 },
 "nbformat": 4,
 "nbformat_minor": 4
}
