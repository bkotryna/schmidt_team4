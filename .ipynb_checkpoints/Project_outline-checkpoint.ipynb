{
 "cells": [
  {
   "cell_type": "markdown",
   "metadata": {},
   "source": [
    "# Schmidt Hackathlon - Covid-19 in Nigeria"
   ]
  },
  {
   "cell_type": "markdown",
   "metadata": {},
   "source": [
    "## Suggestions from Eric's intro document\n",
    "\n",
    "\n",
    "You are provided with different datasets to conduct exploratory data analysis on Nigeria health facility data & covid19:\n",
    "- Nigeria NMIS health facility data\n",
    "- Population data for Administrative Zone 1 (states) areas in Nigeria\n",
    "- Map boundaries for Nigerian states (for plotting and binning)\n",
    "- Covid cases across Nigeria (as of May 20, 2020)\n",
    "\n",
    "You are provided with a sample of possible questions to investigate and tasks to undertake. However, you are free to design your own tasks as a team and augment the initial datasets for your own analysis."
   ]
  },
  {
   "cell_type": "markdown",
   "metadata": {},
   "source": [
    "Many interesting questions with this data relate to COVID cases over time. Some examples:\n",
    "-\tStart by undertaking exploratory data analysis of the dataset, what useful insights can you find through summarisation and data visualisation?\n",
    "-\tHow are the ‘previous week’ and ‘next week’ columns related? What type of model is appropriate for their relationship?\n",
    "-\tWhat about geo-spatial information? You would expect that if a state had high COVID cases, that neighboring states would also see rising cases at some delay. How might you do this? \n",
    "-\tTry building models for each individual state, versus aggregating all of the data together. Does having a global model or local models work better here? Does adding the ‘state’ as a feature to the global model improve results?\n",
    "-\tHow might you extend the model to incorporate more time history than just last week’s cases? Is this information needed?\n",
    "-\tDo health facilities or the population of states improve the predictions? \n",
    "-\tFind another dataset from one of these (https://nigeria.opendataforafrica.org/, https://data.world/datasets/nigeria, https://data.humdata.org/group/nga) websites (or another!) that interests you and explore it. What kind of data is in it? What characteristics does it share with the given datasets that you might connect the two with (state, health facility name, etc.)? Is the data sparsely populated, with many missing values or is it relatively clean and complete? How does it impact the accuracy of your model?"
   ]
  },
  {
   "cell_type": "markdown",
   "metadata": {},
   "source": [
    "An example of direction you could investigate is creating a simple  Markov model of COVID case predictions for over time. \n",
    "One way to do this is to build a simple as follows:\n",
    "-\tCreate a new dataframe with the counts of new COVID cases per state, per week.\n",
    "-\tTaking that, create another dataframe with “previous week’s cases” and “next week’s cases” as two columns.\n",
    "-\tNow take the “previous week” column as the feature and “next week’s” cases as the target variable and train a model. Think about how these two numbers will be related when choosing a model.\n"
   ]
  },
  {
   "cell_type": "markdown",
   "metadata": {},
   "source": [
    "## Presentation on Friday"
   ]
  },
  {
   "cell_type": "markdown",
   "metadata": {},
   "source": [
    "Team project / Hackathon (5min total)\n",
    "\n",
    "- Who you are (15s)\n",
    "- Elevator pitch of problem (45s)\n",
    "- Explain what relevant tools / techniques / relevant modules in the programme you have used (30s)\n",
    "- Describe how you applied them / what solution and WIP currently looks like (2.5min)\n",
    "- Any results (30s)\n",
    "- Further work (15s)\n",
    "- Conclude with impact of programme for your future research (15s)"
   ]
  },
  {
   "cell_type": "markdown",
   "metadata": {},
   "source": [
    "## A random collection of our ideas for things to explore\n",
    "\n",
    "- def\n",
    "- ghi"
   ]
  },
  {
   "cell_type": "markdown",
   "metadata": {},
   "source": [
    "## Our outline & plan\n",
    "\n",
    "#### 1.\tPredict number of new Covid-19 cases for a particular state for the future (and Nigeria as a whole) => Marjan & Tiber\n",
    "\n",
    "    1. Get fresh data with new Covid-19 cases by state\n",
    "    3. Week vs month\n",
    "    4. Effect of neighbouring states on your target state\n",
    "    5. Population density – eg per state, per area\n",
    "    6. Testing facilities in Nigeria\n",
    "        1. Ideally by state\n",
    "    7. GDP per capita per state\n",
    "        1. Or some other indicator of well-being\n",
    "    8. Look this up\n",
    "\n",
    "\n",
    "#### 2.\tPredict deaths for a particular state for the future (and Nigeria as a whole)  => Kotryna\n",
    "\n",
    "    1. Predict new Covid-19 deaths\n",
    "    2. Predict cases vs number of deaths\n",
    "        1. Might depend on the healthcare facilities available\n",
    "    3. Death rates in Nigeria – last year vs this year\n",
    "    4. And as much info as possible on Covid-19 deaths\n",
    "\n",
    "\n",
    "#### 3.\tPlotting => Ema\n",
    "    1. Input data\n",
    "    2. Output prediction data\n",
    "    3. Incl. nicely geographical plots on maps\n",
    "\n",
    "\n",
    "#### 4.\tLooking up what other people do => everyone\n",
    "\n",
    "\n",
    "#### 5.\tElevator pitch => everyone\n",
    "    1.\tPredict new cases\n",
    "    2.\tPredict deaths\n",
    "    3.\tPresent visually current situation\n",
    "    4.\tCases vs health facilities vs population density vs welfare (GDP per capita)\n",
    "    5.\tCan direct government response / charity focus / etc\n",
    "        1.\tEg direct extra resources to a state that has lots of cases but no health facilities\n",
    "    6.\tIdeally this would also include future predictions\n",
    "        1.\tEg this state WILL have cases => direct resources there\n"
   ]
  },
  {
   "cell_type": "markdown",
   "metadata": {},
   "source": [
    "## Key / minimal outputs\n",
    "\n",
    "#### 1. Overview of the current situation\n",
    "    1. plot current Covid-19 cases on a map\n",
    "    2. plot current Covid-19 deaths on a map\n",
    "    3. fancy map integrating several variables to include both (1) Covid-19 numbers and also (2) GDP per capita, (3) health facilities, (4) age of the population  etc\n",
    "\n",
    "\n",
    "#### 2. Predictions\n",
    "    1. plot predicted Covid-19 cases on a map\n",
    "    2. plot predicted Covid-19 deaths on a map\n",
    "    \n",
    "    \n",
    "#### 3. Presenting\n",
    "    1. Elevator pitch (define and sell the problem) - can be prepared by one person\n",
    "    2. Explain what tools we used & how we've being going about solving the problem - core can be prepared by one person, extra bits can be added by individual people\n",
    "    3. Any results & work in progress- to be prepared by individual people, but could also be grouped together by one person"
   ]
  },
  {
   "cell_type": "code",
   "execution_count": null,
   "metadata": {},
   "outputs": [],
   "source": []
  }
 ],
 "metadata": {
  "kernelspec": {
   "display_name": "Python 3",
   "language": "python",
   "name": "python3"
  },
  "language_info": {
   "codemirror_mode": {
    "name": "ipython",
    "version": 3
   },
   "file_extension": ".py",
   "mimetype": "text/x-python",
   "name": "python",
   "nbconvert_exporter": "python",
   "pygments_lexer": "ipython3",
   "version": "3.8.3"
  }
 },
 "nbformat": 4,
 "nbformat_minor": 4
}
